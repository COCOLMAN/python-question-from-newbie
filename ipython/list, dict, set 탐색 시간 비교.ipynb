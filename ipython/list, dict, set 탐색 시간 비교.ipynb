{
 "cells": [
  {
   "cell_type": "code",
   "execution_count": 535,
   "metadata": {},
   "outputs": [],
   "source": [
    "import random\n",
    "\n",
    "END = 1000000\n",
    "\n",
    "list_data = [ x for x in range(END)] # range(0, 백만) 범위의 숫자를 가지는 리스트\n",
    "\n",
    "dict_data = {x: None for x in list_data} # range(0, 백만) 범위의 숫자를 키로 가지는 딕셔너리\n",
    "\n",
    "set_data = set(list_data) # range(0, 백만) 범위의 숫자를 가지는 집합\n",
    "\n",
    "needles = [random.choice(list_data) for x in range(500)] +\\\n",
    "        [random.randint(END, END+10000) for _ in range(500)] # 가지고 있지 않은 숫자 500개\n",
    "    \n",
    "\n",
    "assert(len(list_data) == len(dict_data) == len(set_data)) # 길이 같음\n",
    "assert(len(needles) == 1000)"
   ]
  },
  {
   "cell_type": "code",
   "execution_count": 536,
   "metadata": {},
   "outputs": [
    {
     "name": "stdout",
     "output_type": "stream",
     "text": [
      "CPU times: user 16.6 s, sys: 66.4 ms, total: 16.6 s\n",
      "Wall time: 16.7 s\n"
     ]
    }
   ],
   "source": [
    "%%time\n",
    "\n",
    "# 리스트에서 탐색\n",
    "\n",
    "found = 0\n",
    "for n in needles:\n",
    "    if n in list_data:\n",
    "        found += 1"
   ]
  },
  {
   "cell_type": "code",
   "execution_count": 537,
   "metadata": {},
   "outputs": [
    {
     "name": "stdout",
     "output_type": "stream",
     "text": [
      "500\n",
      "CPU times: user 776 µs, sys: 157 µs, total: 933 µs\n",
      "Wall time: 834 µs\n"
     ]
    }
   ],
   "source": [
    "%%time\n",
    "\n",
    "# 딕셔너리에서 탐색\n",
    "\n",
    "found = 0\n",
    "for n in needles:\n",
    "    if n in dict_data:\n",
    "        found +=1\n",
    "        \n",
    "print(found)"
   ]
  },
  {
   "cell_type": "code",
   "execution_count": 538,
   "metadata": {},
   "outputs": [
    {
     "name": "stdout",
     "output_type": "stream",
     "text": [
      "500\n",
      "CPU times: user 678 µs, sys: 84 µs, total: 762 µs\n",
      "Wall time: 713 µs\n"
     ]
    }
   ],
   "source": [
    "%%time\n",
    "\n",
    "# 집합에서 탐색\n",
    "\n",
    "found = 0\n",
    "for n in needles:\n",
    "    if n in set_data:\n",
    "        found+=1\n",
    "print(found)"
   ]
  },
  {
   "cell_type": "code",
   "execution_count": null,
   "metadata": {},
   "outputs": [],
   "source": []
  },
  {
   "cell_type": "code",
   "execution_count": null,
   "metadata": {},
   "outputs": [],
   "source": []
  }
 ],
 "metadata": {
  "kernelspec": {
   "display_name": "Python 3",
   "language": "python",
   "name": "python3"
  },
  "language_info": {
   "codemirror_mode": {
    "name": "ipython",
    "version": 3
   },
   "file_extension": ".py",
   "mimetype": "text/x-python",
   "name": "python",
   "nbconvert_exporter": "python",
   "pygments_lexer": "ipython3",
   "version": "3.6.4"
  }
 },
 "nbformat": 4,
 "nbformat_minor": 2
}
